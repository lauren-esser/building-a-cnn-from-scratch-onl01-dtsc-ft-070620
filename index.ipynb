{
 "cells": [
  {
   "cell_type": "markdown",
   "metadata": {},
   "source": [
    "# Building a CNN from Scratch - Lab\n",
    "\n",
    "## Introduction\n",
    "\n",
    "Now that you have background knowledge regarding how CNNs work and how to build them using Keras, its time to practice those skills a little more independently in order to build a CNN on your own to solve a image recognition problem. In this lab, you'll practice building an image classifier from start to finish using a CNN.  \n",
    "\n",
    "## Objectives\n",
    "\n",
    "In this lab you will: \n",
    "\n",
    "- Load images from a hierarchical file structure using an image datagenerator \n",
    "- Apply data augmentation to image files before training a neural network \n",
    "- Build a CNN using Keras \n",
    "- Visualize and evaluate the performance of CNN models \n",
    "\n",
    "## Loading the Images\n",
    "\n",
    "The data for this lab concerns lung xray images for pneumonia. The original dataset is from Kaggle. We have downsampled this dataset in order to reduce training time for you when you design and fit your model to the data. ⏰ It is anticipated that this process will take approximately one hour to run on a standard machine, although times will vary depending on your particular computer and set up. At the end of this lab, you are welcome to try training on the complete dataset and observe the impact on the model's overall accuracy. \n",
    "\n",
    "You can find the initial downsampled dataset in a subdirectory, **chest_xray**, of this repository. "
   ]
  },
  {
   "cell_type": "code",
   "execution_count": 1,
   "metadata": {},
   "outputs": [],
   "source": [
    "# Load the images; be sure to also preprocess these into tensors \n",
    "\n",
    "train_dir = 'chest_xray_downsampled/train'\n",
    "validation_dir = 'chest_xray_downsampled/val/'\n",
    "test_dir = 'chest_xray_downsampled/test/' "
   ]
  },
  {
   "cell_type": "code",
   "execution_count": 2,
   "metadata": {},
   "outputs": [
    {
     "name": "stderr",
     "output_type": "stream",
     "text": [
      "Using TensorFlow backend.\n"
     ]
    }
   ],
   "source": [
    "from keras.preprocessing.image import ImageDataGenerator\n",
    "import datetime\n",
    "\n",
    "original_start = datetime.datetime.now()\n",
    "start = datetime.datetime.now()"
   ]
  },
  {
   "cell_type": "code",
   "execution_count": 3,
   "metadata": {},
   "outputs": [
    {
     "name": "stdout",
     "output_type": "stream",
     "text": [
      "Found 1738 images belonging to 2 classes.\n",
      "Found 4 images belonging to 2 classes.\n"
     ]
    }
   ],
   "source": [
    "#Rescale images\n",
    "train_datagen = ImageDataGenerator(rescale=1./255)\n",
    "test_datagen = ImageDataGenerator(rescale=1./255)\n",
    "\n",
    "train_generator = train_datagen.flow_from_directory(train_dir, target_size = (150, 150),\n",
    "                                                   batch_size = 20, class_mode = 'binary')\n",
    "\n",
    "validation_generator = test_datagen.flow_from_directory(validation_dir, target_size = (150,150),\n",
    "                                                       batch_size = 20, class_mode ='binary')"
   ]
  },
  {
   "cell_type": "markdown",
   "metadata": {},
   "source": [
    "## Designing the Model\n",
    "\n",
    "Now it's time to design your CNN using Keras! Remember a few things when doing this: \n",
    "\n",
    "- You should alternate convolutional and pooling layers\n",
    "- You should have later layers have a larger number of parameters in order to detect more abstract patterns\n",
    "- Add some final dense layers to add a classifier to the convolutional base \n",
    "- Compile this model "
   ]
  },
  {
   "cell_type": "code",
   "execution_count": 4,
   "metadata": {},
   "outputs": [],
   "source": [
    "from keras import models, layers\n",
    "# Your code here; design and compile the model\n",
    "model = models.Sequential()\n",
    "\n",
    "model.add(layers.Conv2D(32, (3,3), activation = 'relu', input_shape = (150, 150, 3)))\n",
    "model.add(layers.MaxPooling2D((2, 2)))\n",
    "model.add(layers.Conv2D(64, (3,3), activation = 'relu'))\n",
    "model.add(layers.MaxPooling2D((2, 2)))\n",
    "model.add(layers.Conv2D(128, (3,3), activation = 'relu'))\n",
    "model.add(layers.MaxPooling2D((2, 2)))\n",
    "model.add(layers.Conv2D(128, (3,3), activation = 'relu'))\n",
    "model.add(layers.MaxPooling2D((2, 2)))\n",
    "model.add(layers.Flatten())\n",
    "model.add(layers.Dense(512, activation = 'relu'))\n",
    "model.add(layers.Dense(1, activation = 'sigmoid'))"
   ]
  },
  {
   "cell_type": "code",
   "execution_count": 5,
   "metadata": {},
   "outputs": [],
   "source": [
    "from keras import optimizers\n",
    "\n",
    "model.compile(loss = 'binary_crossentropy', optimizer = optimizers.RMSprop(lr=1e-4),\n",
    "             metrics=['acc'])"
   ]
  },
  {
   "cell_type": "markdown",
   "metadata": {},
   "source": [
    "## Training and Evaluating the Model\n",
    "\n",
    "Remember that training deep networks is resource intensive: depending on the size of the data, even a CNN with 3-4 successive convolutional and pooling layers is apt to take a hours to train on a high end laptop. Using 30 epochs and 8 layers (alternating between convolutional and pooling), our model took about 40 minutes to run on a year old macbook pro.\n",
    "\n",
    "\n",
    "If you are concerned with runtime, you may want to set your model to run the training epochs overnight.  \n",
    "\n",
    "**If you are going to run this process overnight, be sure to also script code for the following questions concerning data augmentation. Check your code twice (or more) and then set the notebook to run all, or something equivalent to have them train overnight.** "
   ]
  },
  {
   "cell_type": "code",
   "execution_count": 6,
   "metadata": {},
   "outputs": [
    {
     "name": "stdout",
     "output_type": "stream",
     "text": [
      "Epoch 1/30\n",
      "100/100 [==============================] - 125s 1s/step - loss: 0.4853 - acc: 0.7717 - val_loss: 0.7298 - val_acc: 0.7500\n",
      "Epoch 2/30\n",
      "100/100 [==============================] - 127s 1s/step - loss: 0.2567 - acc: 0.8923 - val_loss: 0.9050 - val_acc: 0.7500\n",
      "Epoch 3/30\n",
      "100/100 [==============================] - 128s 1s/step - loss: 0.1698 - acc: 0.9403 - val_loss: 0.9112 - val_acc: 0.7500\n",
      "Epoch 4/30\n",
      "100/100 [==============================] - 126s 1s/step - loss: 0.1470 - acc: 0.9410 - val_loss: 1.1240 - val_acc: 0.7500\n",
      "Epoch 5/30\n",
      "100/100 [==============================] - 133s 1s/step - loss: 0.1087 - acc: 0.9564 - val_loss: 0.6538 - val_acc: 0.7500\n",
      "Epoch 6/30\n",
      "100/100 [==============================] - 140s 1s/step - loss: 0.1035 - acc: 0.9584 - val_loss: 1.3622 - val_acc: 0.5000\n",
      "Epoch 7/30\n",
      "100/100 [==============================] - 121s 1s/step - loss: 0.0835 - acc: 0.9684 - val_loss: 0.8518 - val_acc: 0.7500\n",
      "Epoch 8/30\n",
      "100/100 [==============================] - 121s 1s/step - loss: 0.0756 - acc: 0.9699 - val_loss: 0.4678 - val_acc: 0.7500\n",
      "Epoch 9/30\n",
      "100/100 [==============================] - 123s 1s/step - loss: 0.0676 - acc: 0.9749 - val_loss: 0.5976 - val_acc: 0.7500\n",
      "Epoch 10/30\n",
      "100/100 [==============================] - 128s 1s/step - loss: 0.0571 - acc: 0.9784 - val_loss: 1.2372 - val_acc: 0.7500\n",
      "Epoch 11/30\n",
      "100/100 [==============================] - 129s 1s/step - loss: 0.0645 - acc: 0.9760 - val_loss: 1.8946 - val_acc: 0.5000\n",
      "Epoch 12/30\n",
      "100/100 [==============================] - 150s 2s/step - loss: 0.0480 - acc: 0.9825 - val_loss: 1.2116 - val_acc: 0.5000\n",
      "Epoch 13/30\n",
      "100/100 [==============================] - 130s 1s/step - loss: 0.0478 - acc: 0.9830 - val_loss: 2.9030 - val_acc: 0.5000\n",
      "Epoch 14/30\n",
      "100/100 [==============================] - 131s 1s/step - loss: 0.0414 - acc: 0.9840 - val_loss: 1.7751 - val_acc: 0.5000\n",
      "Epoch 15/30\n",
      "100/100 [==============================] - 124s 1s/step - loss: 0.0365 - acc: 0.9880 - val_loss: 1.4999 - val_acc: 0.7500\n",
      "Epoch 16/30\n",
      "100/100 [==============================] - 123s 1s/step - loss: 0.0288 - acc: 0.9865 - val_loss: 0.3779 - val_acc: 0.7500\n",
      "Epoch 17/30\n",
      "100/100 [==============================] - 122s 1s/step - loss: 0.0244 - acc: 0.9905 - val_loss: 1.2478 - val_acc: 0.7500\n",
      "Epoch 18/30\n",
      "100/100 [==============================] - 119s 1s/step - loss: 0.0330 - acc: 0.9890 - val_loss: 1.3962 - val_acc: 0.5000\n",
      "Epoch 19/30\n",
      "100/100 [==============================] - 118s 1s/step - loss: 0.0210 - acc: 0.9940 - val_loss: 0.6970 - val_acc: 0.7500\n",
      "Epoch 20/30\n",
      "100/100 [==============================] - 126s 1s/step - loss: 0.0199 - acc: 0.9950 - val_loss: 0.3984 - val_acc: 0.7500\n",
      "Epoch 21/30\n",
      "100/100 [==============================] - 124s 1s/step - loss: 0.0161 - acc: 0.9965 - val_loss: 1.3376 - val_acc: 0.7500\n",
      "Epoch 22/30\n",
      "100/100 [==============================] - 133s 1s/step - loss: 0.0131 - acc: 0.9950 - val_loss: 1.0239 - val_acc: 0.5000\n",
      "Epoch 23/30\n",
      "100/100 [==============================] - 128s 1s/step - loss: 0.0147 - acc: 0.9955 - val_loss: 1.2660 - val_acc: 0.7500\n",
      "Epoch 24/30\n",
      "100/100 [==============================] - 127s 1s/step - loss: 0.0114 - acc: 0.9960 - val_loss: 0.7460 - val_acc: 0.7500\n",
      "Epoch 25/30\n",
      "100/100 [==============================] - 121s 1s/step - loss: 0.0102 - acc: 0.9965 - val_loss: 0.4300 - val_acc: 0.7500\n",
      "Epoch 26/30\n",
      "100/100 [==============================] - 116s 1s/step - loss: 0.0199 - acc: 0.9950 - val_loss: 1.6674 - val_acc: 0.5000\n",
      "Epoch 27/30\n",
      "100/100 [==============================] - 125s 1s/step - loss: 0.0065 - acc: 0.9980 - val_loss: 0.0150 - val_acc: 1.0000\n",
      "Epoch 28/30\n",
      "100/100 [==============================] - 126s 1s/step - loss: 0.0070 - acc: 0.9970 - val_loss: 0.5196 - val_acc: 0.5000\n",
      "Epoch 29/30\n",
      "100/100 [==============================] - 130s 1s/step - loss: 0.0071 - acc: 0.9980 - val_loss: 1.3576 - val_acc: 0.7500\n",
      "Epoch 30/30\n",
      "100/100 [==============================] - 137s 1s/step - loss: 0.0063 - acc: 0.9980 - val_loss: 1.1981 - val_acc: 0.5000\n"
     ]
    }
   ],
   "source": [
    "# Set the model to train \n",
    "# ⏰ This cell may take several minutes to run \n",
    "history = model.fit_generator(train_generator, steps_per_epoch = 100,\n",
    "                             epochs = 30, validation_data = validation_generator,\n",
    "                             validation_steps = 50)"
   ]
  },
  {
   "cell_type": "code",
   "execution_count": 8,
   "metadata": {},
   "outputs": [
    {
     "data": {
      "image/png": "[encoded data removed]",
      "text/plain": [
       "<Figure size 432x288 with 1 Axes>"
      ]
     },
     "metadata": {
      "needs_background": "light"
     },
     "output_type": "display_data"
    },
    {
     "data": {
      "image/png": "[encoded data removed]",
      "text/plain": [
       "<Figure size 432x288 with 1 Axes>"
      ]
     },
     "metadata": {
      "needs_background": "light"
     },
     "output_type": "display_data"
    }
   ],
   "source": [
    "# Plot history\n",
    "import matplotlib.pyplot as plt\n",
    "%matplotlib inline\n",
    "\n",
    "acc = history.history['acc']\n",
    "val_acc = history.history['val_acc']\n",
    "loss = history.history['loss']\n",
    "val_loss = history.history['val_loss']\n",
    "epochs = range(len(acc))\n",
    "plt.plot(epochs, acc, 'bo', label = 'Training acc')\n",
    "plt.plot(epochs, val_acc, 'b', label = \"Validation acc\")\n",
    "plt.title('Training and validation accuracy')\n",
    "plt.legend()\n",
    "plt.figure()\n",
    "plt.plot(epochs, loss, 'bo', label = 'Training loss')\n",
    "plt.plot(epochs, val_loss, 'b', label = 'Validation Loss')\n",
    "plt.title('Training and Validation loss')\n",
    "plt.legend()\n",
    "plt.show()"
   ]
  },
  {
   "cell_type": "code",
   "execution_count": 9,
   "metadata": {},
   "outputs": [
    {
     "name": "stdout",
     "output_type": "stream",
     "text": [
      "Training took a total of 1:18:29.081651\n"
     ]
    }
   ],
   "source": [
    "end = datetime.datetime.now()\n",
    "elapsed = end - start\n",
    "print('Training took a total of {}'.format(elapsed))"
   ]
  },
  {
   "cell_type": "markdown",
   "metadata": {},
   "source": [
    "## Save the Model"
   ]
  },
  {
   "cell_type": "code",
   "execution_count": 10,
   "metadata": {},
   "outputs": [],
   "source": [
    "# Your code here; save the model for future reference \n",
    "model.save('chest_xray_downsampled_data.h5')"
   ]
  },
  {
   "cell_type": "markdown",
   "metadata": {},
   "source": [
    "## Data Augmentation\n",
    "\n",
    "Recall that data augmentation is typically always a necessary step when using a small dataset as this one which you have been provided. As such, if you haven't already, implement a data augmentation setup.\n",
    "\n",
    "**Warning: ⏰ This process took nearly 4 hours to run on a relatively new macbook pro. As such, it is recommended that you simply code the setup and compare to the solution branch, or set the process to run overnight if you do choose to actually run the code.** "
   ]
  },
  {
   "cell_type": "code",
   "execution_count": null,
   "metadata": {},
   "outputs": [],
   "source": [
    "# Add data augmentation to the model setup and set the model to train; \n",
    "# See warnings above if you intend to run this block of code \n",
    "# ⏰ This cell may take several hours to run \n",
    "\n",
    "aasdfdaf\n",
    "\n",
    "train_datagen = ImageDataGenerator(rotation_range = 40, width_shift_range = 0.2,\n",
    "                                  height_shift_range = 0.2, \n",
    "                                  shear_range = 0.2,\n",
    "                                  zoom_range = 0.2,\n",
    "                                  horizontal_flip = True,\n",
    "                                  fill_mode = 'nearest')\n",
    "\n",
    "test_datagen = ImageDataGenerator(rescale = 1./255)\n",
    "\n",
    "train_generator = train_datagen.flow_from_directory(train_dir, target_size = (150, 150),\n",
    "                                                   batch_size = 32,\n",
    "                                                   class_model = 'binary')\n",
    "\n",
    "validation_generator = test_datagen.flow_from_directory(validation_dir,\n",
    "                                                       target_size=(150,150),\n",
    "                                                       batch_size = 32, \n",
    "                                                       class_mode = 'binary')\n",
    "\n",
    "history = model.fit_generator(train_generator, steps_pre_epoch = 100,\n",
    "                             epochs = 100, validation_data = validation_generator,\n",
    "                             validation_steps = 50)"
   ]
  },
  {
   "cell_type": "code",
   "execution_count": null,
   "metadata": {},
   "outputs": [],
   "source": [
    "acc = history.history['acc']\n",
    "val_acc = history.history['val_acc']\n",
    "loss = history.history['loss']\n",
    "val_loss = history.hisotry['val_loss']\n",
    "epochs = range(len(acc))\n",
    "plt.plot(epochs, acc, 'bo', label = 'Training acc')\n",
    "plt.plot(epochs, val_acc, 'b', label = \"Validation acc\")\n",
    "plt.title('Training and validation accuracy')\n",
    "plt.legend()\n",
    "plt.figure()\n",
    "plt.plot(epochs, loss, 'bo', label = 'Training loss')\n",
    "plt.plot(epochs, val_loss, 'b', label = 'Validation Loss')\n",
    "plt.title('Training and Validation loss')\n",
    "plt.legend()\n",
    "plt.show()"
   ]
  },
  {
   "cell_type": "markdown",
   "metadata": {},
   "source": [
    "Save the model for future reference.  "
   ]
  },
  {
   "cell_type": "code",
   "execution_count": null,
   "metadata": {},
   "outputs": [],
   "source": [
    "# Save the model \n",
    "model.save('chest_xray_downsampled_with_augmentation_data.h5')"
   ]
  },
  {
   "cell_type": "markdown",
   "metadata": {},
   "source": [
    "## Final Evaluation\n",
    "\n",
    "Now use the test set to perform a final evaluation on your model of choice. "
   ]
  },
  {
   "cell_type": "code",
   "execution_count": null,
   "metadata": {},
   "outputs": [],
   "source": [
    "# Your code here \n",
    "# Perform a final evaluation using the test set\n",
    "test_generator = test_datagen.flow_from_directory(test_dir, target_size = (150,150),\n",
    "                                                 batch_size = 20,\n",
    "                                                 class_mode = 'binary')\n",
    "test_loss, test_acc = model.evaluate_generator(test_generator, steps = 50)\n",
    "print(test_loss, test_acc)"
   ]
  },
  {
   "cell_type": "markdown",
   "metadata": {},
   "source": [
    "## Level Up (Optional): Adding More Data to the Model\n",
    "\n",
    "As discussed, the current dataset we worked with is a subset of a dataset hosted on Kaggle. Increasing the data that we use to train the model will result in additional performance gains but will also result in longer training times and be more resource intensive.   \n",
    "\n",
    "⏰ It is estimated that training on the full dataset will take approximately 4 hours (and potentially significantly longer) depending on your computer's specifications.\n",
    "\n",
    "In order to test the impact of training on the full dataset, start by downloading the data from Kaggle here: https://www.kaggle.com/paultimothymooney/chest-xray-pneumonia.   "
   ]
  },
  {
   "cell_type": "code",
   "execution_count": null,
   "metadata": {},
   "outputs": [],
   "source": [
    "# Optional extension; Your code here\n",
    "# ⏰ This cell may take several hours to run "
   ]
  },
  {
   "cell_type": "markdown",
   "metadata": {},
   "source": [
    "## Summary\n",
    "\n",
    "Well done! In this lab, you practice building your own CNN for image recognition which drastically outperformed our previous attempts using a standard deep learning model alone. In the upcoming sections, we'll continue to investigate further techniques associated with CNNs including visualizing the representations they learn and techniques to further bolster their performance when we have limited training data such as here."
   ]
  }
 ],
 "metadata": {
  "kernelspec": {
   "display_name": "Python 3",
   "language": "python",
   "name": "python3"
  },
  "language_info": {
   "codemirror_mode": {
    "name": "ipython",
    "version": 3
   },
   "file_extension": ".py",
   "mimetype": "text/x-python",
   "name": "python",
   "nbconvert_exporter": "python",
   "pygments_lexer": "ipython3",
   "version": "3.6.9"
  },
  "toc": {
   "base_numbering": 1,
   "nav_menu": {},
   "number_sections": true,
   "sideBar": true,
   "skip_h1_title": false,
   "title_cell": "Table of Contents",
   "title_sidebar": "Contents",
   "toc_cell": false,
   "toc_position": {},
   "toc_section_display": true,
   "toc_window_display": false
  }
 },
 "nbformat": 4,
 "nbformat_minor": 2
}
